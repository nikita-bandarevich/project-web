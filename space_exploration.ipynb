{
 "cells": [
  {
   "cell_type": "markdown",
   "metadata": {},
   "source": [
    "# API"
   ]
  },
  {
   "cell_type": "markdown",
   "metadata": {},
   "source": [
    "## Get the position of the space station (its current location)"
   ]
  },
  {
   "cell_type": "code",
   "execution_count": 1,
   "metadata": {},
   "outputs": [
    {
     "name": "stdout",
     "output_type": "stream",
     "text": [
      "200\n"
     ]
    }
   ],
   "source": [
    "# Import libraries\n",
    "\n",
    "import requests\n",
    "import pandas as pd\n",
    "\n",
    "# Call the API and check that everything is OK. If OK, status_code will print out 200.\n",
    "iss_now_response = requests.get(\"http://api.open-notify.org/iss-now.json\")\n",
    "\n",
    "print(iss_now_response.status_code)"
   ]
  },
  {
   "cell_type": "code",
   "execution_count": 2,
   "metadata": {},
   "outputs": [
    {
     "name": "stdout",
     "output_type": "stream",
     "text": [
      "The ISS position at 2020-02-25 19:03:38 is {'longitude': '-31.7259', 'latitude': '-31.8443'}\n",
      "Latitude: -31.8443\n",
      "Longitude: -31.7259\n"
     ]
    }
   ],
   "source": [
    "# change to python object\n",
    "location_data = iss_now_response.json()\n",
    "\n",
    "# Convert \"timestamp\" from UNIX timestamp to readable format\n",
    "import datetime\n",
    "location_timestamp = datetime.datetime.fromtimestamp(\n",
    "        location_data[\"timestamp\"]\n",
    "    ).strftime('%Y-%m-%d %H:%M:%S')\n",
    "\n",
    "# Print the latest position and time of the space station\n",
    "print(\"The ISS position at\", location_timestamp, \"is\", location_data[\"iss_position\"])\n",
    "\n",
    "# Pull out the latitude and longitude to be used in the next step\n",
    "iss_lat = location_data[\"iss_position\"][\"latitude\"]\n",
    "iss_lon = location_data[\"iss_position\"][\"longitude\"]\n",
    "\n",
    "# change to float objects for further work\n",
    "iss_lat = float(iss_lat)\n",
    "iss_lon = float(iss_lon)\n",
    "\n",
    "print(\"Latitude:\", iss_lat)\n",
    "print(\"Longitude:\", iss_lon)"
   ]
  },
  {
   "cell_type": "code",
   "execution_count": 3,
   "metadata": {},
   "outputs": [
    {
     "name": "stdout",
     "output_type": "stream",
     "text": [
      "Loading formatted geocoded file...\n",
      "[OrderedDict([('lat', '-22.96611'), ('lon', '-42.02778'), ('name', 'Arraial do Cabo'), ('admin1', 'Rio de Janeiro'), ('admin2', 'Arraial Do Cabo'), ('cc', 'BR')])]\n",
      " The location of the ISS at this moment is Rio de Janeiro\n"
     ]
    }
   ],
   "source": [
    "# import the module that translates longitude and latitude into a location for better UX\n",
    "import reverse_geocoder as rg\n",
    "\n",
    "coordinates = (iss_lat, iss_lon)\n",
    "results = rg.search(coordinates) \n",
    "print(results)\n",
    "\n",
    "for x in results:\n",
    "  print(f' The location of the ISS at this moment is {x[\"admin1\"]}')\n",
    "\n",
    "    "
   ]
  },
  {
   "cell_type": "markdown",
   "metadata": {},
   "source": [
    "## Get the next timestamps and durations of the space station passes in Barcelona"
   ]
  },
  {
   "cell_type": "code",
   "execution_count": 4,
   "metadata": {},
   "outputs": [
    {
     "name": "stdout",
     "output_type": "stream",
     "text": [
      "\n",
      " {\n",
      "  \"message\": \"success\", \n",
      "  \"request\": {\n",
      "    \"altitude\": 100, \n",
      "    \"datetime\": 1582653820, \n",
      "    \"latitude\": 41.3851, \n",
      "    \"longitude\": 2.1734, \n",
      "    \"passes\": 10\n",
      "  }, \n",
      "  \"response\": [\n",
      "    {\n",
      "      \"duration\": 402, \n",
      "      \"risetime\": 1582684252\n",
      "    }, \n",
      "    {\n",
      "      \"duration\": 647, \n",
      "      \"risetime\": 1582689895\n",
      "    }, \n",
      "    {\n",
      "      \"duration\": 628, \n",
      "      \"risetime\": 1582695721\n",
      "    }, \n",
      "    {\n",
      "      \"duration\": 576, \n",
      "      \"risetime\": 1582701605\n",
      "    }, \n",
      "    {\n",
      "      \"duration\": 613, \n",
      "      \"risetime\": 1582707451\n",
      "    }, \n",
      "    {\n",
      "      \"duration\": 657, \n",
      "      \"risetime\": 1582713258\n",
      "    }, \n",
      "    {\n",
      "      \"duration\": 517, \n",
      "      \"risetime\": 1582719105\n",
      "    }, \n",
      "    {\n",
      "      \"duration\": 152, \n",
      "      \"risetime\": 1582767937\n",
      "    }, \n",
      "    {\n",
      "      \"duration\": 624, \n",
      "      \"risetime\": 1582773454\n",
      "    }, \n",
      "    {\n",
      "      \"duration\": 642, \n",
      "      \"risetime\": 1582779248\n",
      "    }\n",
      "  ]\n",
      "}\n",
      "\n"
     ]
    }
   ],
   "source": [
    "# get the duration of space station in each area in seconds and the timestamp\n",
    "# .decode(\"utf-8\") converts it to string format\n",
    "# lets specidfy n = 10, to get the next 10 passes\n",
    "# barcelona - lat=41.38 & lon = 2.17\n",
    "\n",
    "stl2_response = requests.get(\"http://api.open-notify.org/iss-pass.json?lat=41.3851&lon=2.1734&n=10\")\n",
    "print(\"\\n\", stl2_response.content.decode(\"utf-8\"))"
   ]
  },
  {
   "cell_type": "code",
   "execution_count": 5,
   "metadata": {},
   "outputs": [],
   "source": [
    "# use for further translation of timestamp into date object\n",
    "# isnt implemented for now\n",
    "\n",
    "#from datetime import datetime\n",
    "\n",
    "#timestamp = 1545730073\n",
    "#dt_object = datetime.fromtimestamp(timestamp)\n",
    "\n",
    "#print(\"The time is:\", dt_object)\n"
   ]
  },
  {
   "cell_type": "markdown",
   "metadata": {},
   "source": [
    "## Cosmonauts in space rn"
   ]
  },
  {
   "cell_type": "code",
   "execution_count": 6,
   "metadata": {},
   "outputs": [
    {
     "name": "stdout",
     "output_type": "stream",
     "text": [
      "Number of people currently in space:  3\n",
      "\n",
      "Data: {'people': [{'craft': 'ISS', 'name': 'Andrew Morgan'}, {'craft': 'ISS', 'name': 'Oleg Skripochka'}, {'craft': 'ISS', 'name': 'Jessica Meir'}], 'message': 'success', 'number': 3}\n"
     ]
    }
   ],
   "source": [
    "# Get the response from the API endpoint.\n",
    "response = requests.get(\"http://api.open-notify.org/astros.json\")\n",
    "astros_data = response.json()\n",
    "\n",
    "# How many people are currently in space?\n",
    "print(\"Number of people currently in space: \", astros_data[\"number\"])\n",
    "print(\"\\nData:\", astros_data)"
   ]
  },
  {
   "cell_type": "code",
   "execution_count": 7,
   "metadata": {},
   "outputs": [
    {
     "data": {
      "text/html": [
       "<div>\n",
       "<style scoped>\n",
       "    .dataframe tbody tr th:only-of-type {\n",
       "        vertical-align: middle;\n",
       "    }\n",
       "\n",
       "    .dataframe tbody tr th {\n",
       "        vertical-align: top;\n",
       "    }\n",
       "\n",
       "    .dataframe thead th {\n",
       "        text-align: right;\n",
       "    }\n",
       "</style>\n",
       "<table border=\"1\" class=\"dataframe\">\n",
       "  <thead>\n",
       "    <tr style=\"text-align: right;\">\n",
       "      <th></th>\n",
       "      <th>info</th>\n",
       "    </tr>\n",
       "  </thead>\n",
       "  <tbody>\n",
       "    <tr>\n",
       "      <th>0</th>\n",
       "      <td>{'craft': 'ISS', 'name': 'Andrew Morgan'}</td>\n",
       "    </tr>\n",
       "    <tr>\n",
       "      <th>1</th>\n",
       "      <td>{'craft': 'ISS', 'name': 'Oleg Skripochka'}</td>\n",
       "    </tr>\n",
       "    <tr>\n",
       "      <th>2</th>\n",
       "      <td>{'craft': 'ISS', 'name': 'Jessica Meir'}</td>\n",
       "    </tr>\n",
       "  </tbody>\n",
       "</table>\n",
       "</div>"
      ],
      "text/plain": [
       "                                          info\n",
       "0    {'craft': 'ISS', 'name': 'Andrew Morgan'}\n",
       "1  {'craft': 'ISS', 'name': 'Oleg Skripochka'}\n",
       "2     {'craft': 'ISS', 'name': 'Jessica Meir'}"
      ]
     },
     "execution_count": 7,
     "metadata": {},
     "output_type": "execute_result"
    }
   ],
   "source": [
    "# work on the dataframe later to separate columns\n",
    "\n",
    "df = pd.DataFrame()\n",
    "df['info'] = astros_data['people']\n",
    "#df_beer_styles['style'] = style_list\n",
    "\n",
    "df.head()"
   ]
  },
  {
   "cell_type": "markdown",
   "metadata": {},
   "source": [
    "# Scraping "
   ]
  },
  {
   "cell_type": "code",
   "execution_count": 8,
   "metadata": {},
   "outputs": [],
   "source": [
    "import json\n",
    "import requests\n",
    "from requests import get\n",
    "from requests.exceptions import RequestException\n",
    "from contextlib import closing\n",
    "from bs4 import BeautifulSoup\n"
   ]
  },
  {
   "cell_type": "markdown",
   "metadata": {},
   "source": [
    "## Get the information about next space missions"
   ]
  },
  {
   "cell_type": "code",
   "execution_count": 9,
   "metadata": {},
   "outputs": [],
   "source": [
    "# create a method that scrapes info from the website spaceflightnow.com and returns a dictionary object \n",
    "\n",
    "def getMissionInfo():\n",
    "    html = requests.get(\"https://spaceflightnow.com/launch-schedule/\").text\n",
    "    soup = BeautifulSoup(html, 'html.parser')\n",
    "    #print(type(soup))\n",
    "    missionList = []\n",
    "    counter = 0\n",
    "    \n",
    "    # launchList contains the flight window and launch location\n",
    "    launchList = []\n",
    "    for i in soup.find_all('div', attrs={\"class\": 'missiondata'}):\n",
    "        launchTime = i.text\n",
    "        launchList.append(launchTime)\n",
    "\n",
    "    # descriptionList contains the mission descriptions\n",
    "    descriptionList = []\n",
    "    for i in soup.find_all('div', attrs={\"class\": 'missdescrip'}):\n",
    "        missiondescription = i.text\n",
    "        descriptionList.append(missiondescription)\n",
    "\n",
    "    # the date and mission name are included before the entire row is appended to the missionList\n",
    "    for i in soup.find_all('div', attrs={'class': 'datename'}):\n",
    "        date = i.find('span', attrs={'class': 'launchdate'})\n",
    "        mission = i.find('span', attrs={'class': 'mission'})\n",
    "        row = {\n",
    "                \"date\": date.text, \"name\":mission.text,\n",
    "                \"launchInfo\": launchList[int(counter)],\n",
    "                \"description\":descriptionList[int(counter)]\n",
    "            }\n",
    "        missionList.append(row)\n",
    "        counter += 1\n",
    "    return missionList"
   ]
  },
  {
   "cell_type": "code",
   "execution_count": 10,
   "metadata": {},
   "outputs": [
    {
     "data": {
      "text/html": [
       "<div>\n",
       "<style scoped>\n",
       "    .dataframe tbody tr th:only-of-type {\n",
       "        vertical-align: middle;\n",
       "    }\n",
       "\n",
       "    .dataframe tbody tr th {\n",
       "        vertical-align: top;\n",
       "    }\n",
       "\n",
       "    .dataframe thead th {\n",
       "        text-align: right;\n",
       "    }\n",
       "</style>\n",
       "<table border=\"1\" class=\"dataframe\">\n",
       "  <thead>\n",
       "    <tr style=\"text-align: right;\">\n",
       "      <th></th>\n",
       "      <th>date</th>\n",
       "      <th>name</th>\n",
       "      <th>launchInfo</th>\n",
       "      <th>description</th>\n",
       "    </tr>\n",
       "  </thead>\n",
       "  <tbody>\n",
       "    <tr>\n",
       "      <th>0</th>\n",
       "      <td>NET Feb. 27</td>\n",
       "      <td>Astra Rocket 3.0 • DARPA Launch Challenge 1</td>\n",
       "      <td>Launch window: 2030-2330 GMT (3:30-6:30 p.m. E...</td>\n",
       "      <td>Astra Space’s Rocket 3.0 will lift off on its ...</td>\n",
       "    </tr>\n",
       "    <tr>\n",
       "      <th>1</th>\n",
       "      <td>March 5</td>\n",
       "      <td>GSLV Mk.2 • GISAT 1</td>\n",
       "      <td>Launch time: 1213 GMT (7:13 a.m. EST)\\nLaunch ...</td>\n",
       "      <td>India’s Geosynchronous Satellite Launch Vehicl...</td>\n",
       "    </tr>\n",
       "    <tr>\n",
       "      <th>2</th>\n",
       "      <td>March 6</td>\n",
       "      <td>Soyuz • Falcon Eye 2</td>\n",
       "      <td>Launch time: 0133 GMT on 6th (8:33 p.m. EST)\\n...</td>\n",
       "      <td>An Arianespace Soyuz rocket, designated VS24, ...</td>\n",
       "    </tr>\n",
       "    <tr>\n",
       "      <th>3</th>\n",
       "      <td>March 6/7</td>\n",
       "      <td>Falcon 9 • SpaceX CRS 20</td>\n",
       "      <td>Launch time: 0450 GMT on 7th (11:50 p.m. EST o...</td>\n",
       "      <td>A SpaceX Falcon 9 rocket will launch the 22nd ...</td>\n",
       "    </tr>\n",
       "    <tr>\n",
       "      <th>4</th>\n",
       "      <td>March 11</td>\n",
       "      <td>Falcon 9 • Starlink 5</td>\n",
       "      <td>Launch time: Approx. 1440 GMT (10:40 a.m. EDT)...</td>\n",
       "      <td>A SpaceX Falcon 9 rocket is expected to launch...</td>\n",
       "    </tr>\n",
       "  </tbody>\n",
       "</table>\n",
       "</div>"
      ],
      "text/plain": [
       "          date                                         name  \\\n",
       "0  NET Feb. 27  Astra Rocket 3.0 • DARPA Launch Challenge 1   \n",
       "1      March 5                          GSLV Mk.2 • GISAT 1   \n",
       "2      March 6                         Soyuz • Falcon Eye 2   \n",
       "3    March 6/7                     Falcon 9 • SpaceX CRS 20   \n",
       "4     March 11                        Falcon 9 • Starlink 5   \n",
       "\n",
       "                                          launchInfo  \\\n",
       "0  Launch window: 2030-2330 GMT (3:30-6:30 p.m. E...   \n",
       "1  Launch time: 1213 GMT (7:13 a.m. EST)\\nLaunch ...   \n",
       "2  Launch time: 0133 GMT on 6th (8:33 p.m. EST)\\n...   \n",
       "3  Launch time: 0450 GMT on 7th (11:50 p.m. EST o...   \n",
       "4  Launch time: Approx. 1440 GMT (10:40 a.m. EDT)...   \n",
       "\n",
       "                                         description  \n",
       "0  Astra Space’s Rocket 3.0 will lift off on its ...  \n",
       "1  India’s Geosynchronous Satellite Launch Vehicl...  \n",
       "2  An Arianespace Soyuz rocket, designated VS24, ...  \n",
       "3  A SpaceX Falcon 9 rocket will launch the 22nd ...  \n",
       "4  A SpaceX Falcon 9 rocket is expected to launch...  "
      ]
     },
     "execution_count": 10,
     "metadata": {},
     "output_type": "execute_result"
    }
   ],
   "source": [
    "# create a dataframe out of the dictionary\n",
    "\n",
    "missions = pd.DataFrame.from_dict(getMissionInfo())\n",
    "missions.head()"
   ]
  }
 ],
 "metadata": {
  "kernelspec": {
   "display_name": "Python 3",
   "language": "python",
   "name": "python3"
  },
  "language_info": {
   "codemirror_mode": {
    "name": "ipython",
    "version": 3
   },
   "file_extension": ".py",
   "mimetype": "text/x-python",
   "name": "python",
   "nbconvert_exporter": "python",
   "pygments_lexer": "ipython3",
   "version": "3.7.6"
  }
 },
 "nbformat": 4,
 "nbformat_minor": 2
}
