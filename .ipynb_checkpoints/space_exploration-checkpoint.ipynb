{
 "cells": [
  {
   "cell_type": "code",
   "execution_count": 1,
   "metadata": {},
   "outputs": [
    {
     "name": "stdout",
     "output_type": "stream",
     "text": [
      "200\n"
     ]
    }
   ],
   "source": [
    "# Import the requests library\n",
    "import requests\n",
    "\n",
    "# Call the API and check that everything is OK. If OK, status_code will print out 200.\n",
    "iss_now_response = requests.get(\"http://api.open-notify.org/iss-now.json\")\n",
    "\n",
    "print(iss_now_response.status_code)"
   ]
  },
  {
   "cell_type": "code",
   "execution_count": 2,
   "metadata": {},
   "outputs": [
    {
     "name": "stdout",
     "output_type": "stream",
     "text": [
      "The ISS position at 2020-02-23 19:53:37 is {'latitude': '39.6097', 'longitude': '158.9187'}\n",
      "Latitude: 39.6097\n",
      "Longitude: 158.9187\n"
     ]
    }
   ],
   "source": [
    "# Convert data into a Python object\n",
    "location_data = iss_now_response.json()\n",
    "\n",
    "# Convert \"timestamp\" from UNIX timestamp to readable format\n",
    "import datetime\n",
    "location_timestamp = datetime.datetime.fromtimestamp(\n",
    "        location_data[\"timestamp\"]\n",
    "    ).strftime('%Y-%m-%d %H:%M:%S')\n",
    "\n",
    "# Print the most current ISS position in latitude/longitude and the time that it was there.\n",
    "print(\"The ISS position at\", location_timestamp, \"is\", location_data[\"iss_position\"])\n",
    "\n",
    "# Pull out the latitude and longitude to be used in the next step\n",
    "iss_lat = location_data[\"iss_position\"][\"latitude\"]\n",
    "iss_lon = location_data[\"iss_position\"][\"longitude\"]\n",
    "\n",
    "iss_lat = float(iss_lat)\n",
    "iss_lon = float(iss_lon)\n",
    "\n",
    "print(\"Latitude:\", iss_lat)\n",
    "print(\"Longitude:\", iss_lon)"
   ]
  },
  {
   "cell_type": "code",
   "execution_count": 10,
   "metadata": {},
   "outputs": [
    {
     "name": "stdout",
     "output_type": "stream",
     "text": [
      "[OrderedDict([('lat', '50.67531'), ('lon', '156.12695'), ('name', \"Severo-Kuril'sk\"), ('admin1', 'Sakhalin'), ('admin2', ''), ('cc', 'RU')])]\n",
      " The location of the ISS at this moment is Sakhalin\n"
     ]
    }
   ],
   "source": [
    "import reverse_geocoder as rg\n",
    "\n",
    "coordinates = (iss_lat, iss_lon)\n",
    "\n",
    "results = rg.search(coordinates) # default mode = 2\n",
    "\n",
    "print(results)\n",
    "#print(f'The location of the ISS at this moment is {results[0][0]}.')\n",
    "\n",
    "for x in results:\n",
    "  print(f' The location of the ISS at this moment is {x[\"admin1\"]}')\n",
    "\n",
    "    "
   ]
  },
  {
   "cell_type": "code",
   "execution_count": 13,
   "metadata": {},
   "outputs": [
    {
     "name": "stdout",
     "output_type": "stream",
     "text": [
      "\n",
      " {\n",
      "  \"message\": \"success\", \n",
      "  \"request\": {\n",
      "    \"altitude\": 100, \n",
      "    \"datetime\": 1582484452, \n",
      "    \"latitude\": 41.3851, \n",
      "    \"longitude\": 2.1734, \n",
      "    \"passes\": 10\n",
      "  }, \n",
      "  \"response\": [\n",
      "    {\n",
      "      \"duration\": 585, \n",
      "      \"risetime\": 1582517048\n",
      "    }, \n",
      "    {\n",
      "      \"duration\": 653, \n",
      "      \"risetime\": 1582522805\n",
      "    }, \n",
      "    {\n",
      "      \"duration\": 595, \n",
      "      \"risetime\": 1582528675\n",
      "    }, \n",
      "    {\n",
      "      \"duration\": 584, \n",
      "      \"risetime\": 1582534548\n",
      "    }, \n",
      "    {\n",
      "      \"duration\": 645, \n",
      "      \"risetime\": 1582540367\n",
      "    }, \n",
      "    {\n",
      "      \"duration\": 626, \n",
      "      \"risetime\": 1582546180\n",
      "    }, \n",
      "    {\n",
      "      \"duration\": 147, \n",
      "      \"risetime\": 1582552172\n",
      "    }, \n",
      "    {\n",
      "      \"duration\": 516, \n",
      "      \"risetime\": 1582600637\n",
      "    }, \n",
      "    {\n",
      "      \"duration\": 655, \n",
      "      \"risetime\": 1582606346\n",
      "    }, \n",
      "    {\n",
      "      \"duration\": 611, \n",
      "      \"risetime\": 1582612197\n",
      "    }\n",
      "  ]\n",
      "}\n",
      "\n"
     ]
    }
   ],
   "source": [
    " #Set up the parameters as a dictionary, which we'll then pass to the API\n",
    "# This is the latitude, longitude, and altitude of St. Louis, Missouri.\n",
    "\n",
    "#parameters = {\"lat\": 38.627003, \"lon\": -90.199402, \"alt\":466, \"n\":10}\n",
    "\n",
    "# Make a get request with the parameters.\n",
    "#stl_response = requests.get(\"http://api.open-notify.org/iss-pass.json\", params=parameters)\n",
    "\n",
    "# Print the content of the response (the data the server returned)\n",
    "#print(stl_response.content)\n",
    "\n",
    "# Alternative approach: this gets the same data as the command above\n",
    "# .decode(\"utf-8\") converts it to string format\n",
    "\n",
    "#duration in seconds\n",
    "\n",
    "stl2_response = requests.get(\"http://api.open-notify.org/iss-pass.json?lat=41.3851&lon=2.1734&n=10\")\n",
    "print(\"\\n\", stl2_response.content.decode(\"utf-8\"))"
   ]
  },
  {
   "cell_type": "code",
   "execution_count": 23,
   "metadata": {},
   "outputs": [
    {
     "name": "stdout",
     "output_type": "stream",
     "text": [
      "The time is: 2018-12-25 10:27:53\n"
     ]
    }
   ],
   "source": [
    "from datetime import datetime\n",
    "\n",
    "timestamp = 1545730073\n",
    "dt_object = datetime.fromtimestamp(timestamp)\n",
    "\n",
    "print(\"The time is:\", dt_object)\n",
    "#print(\"type(dt_object) =\", type(dt_object))"
   ]
  },
  {
   "cell_type": "code",
   "execution_count": null,
   "metadata": {},
   "outputs": [],
   "source": []
  },
  {
   "cell_type": "code",
   "execution_count": null,
   "metadata": {},
   "outputs": [],
   "source": []
  },
  {
   "cell_type": "code",
   "execution_count": 42,
   "metadata": {},
   "outputs": [
    {
     "name": "stdout",
     "output_type": "stream",
     "text": [
      "Number of people currently in space:  3\n",
      "\n",
      "Data: {'people': [{'craft': 'ISS', 'name': 'Andrew Morgan'}, {'craft': 'ISS', 'name': 'Oleg Skripochka'}, {'craft': 'ISS', 'name': 'Jessica Meir'}], 'message': 'success', 'number': 3}\n"
     ]
    }
   ],
   "source": [
    "# Get the response from the API endpoint.\n",
    "response = requests.get(\"http://api.open-notify.org/astros.json\")\n",
    "astros_data = response.json()\n",
    "\n",
    "# How many people are currently in space?\n",
    "print(\"Number of people currently in space: \", astros_data[\"number\"])\n",
    "print(\"\\nData:\", astros_data)"
   ]
  },
  {
   "cell_type": "code",
   "execution_count": null,
   "metadata": {},
   "outputs": [],
   "source": []
  }
 ],
 "metadata": {
  "kernelspec": {
   "display_name": "Python 3",
   "language": "python",
   "name": "python3"
  },
  "language_info": {
   "codemirror_mode": {
    "name": "ipython",
    "version": 3
   },
   "file_extension": ".py",
   "mimetype": "text/x-python",
   "name": "python",
   "nbconvert_exporter": "python",
   "pygments_lexer": "ipython3",
   "version": "3.7.6"
  }
 },
 "nbformat": 4,
 "nbformat_minor": 2
}
